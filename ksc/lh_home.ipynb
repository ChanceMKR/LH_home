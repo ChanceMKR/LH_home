{
 "cells": [
  {
   "cell_type": "code",
   "execution_count": 11,
   "metadata": {},
   "outputs": [],
   "source": [
    "import pandas as pd\n",
    "import numpy as np\n",
    "import matplotlib.pyplot as plt\n",
    "import seaborn as sns\n",
    "import os"
   ]
  },
  {
   "cell_type": "code",
   "execution_count": 17,
   "metadata": {},
   "outputs": [],
   "source": [
    "sns.set(font=\"AppleGothic\", \n",
    "        rc={\"axes.unicode_minus\":False},\n",
    "        style='darkgrid')"
   ]
  },
  {
   "cell_type": "code",
   "execution_count": 12,
   "metadata": {},
   "outputs": [
    {
     "data": {
      "text/plain": [
       "'/Users/chance/Desktop/LH_home/ksc'"
      ]
     },
     "execution_count": 12,
     "metadata": {},
     "output_type": "execute_result"
    }
   ],
   "source": [
    "os.getcwd()"
   ]
  },
  {
   "cell_type": "code",
   "execution_count": 336,
   "metadata": {},
   "outputs": [
    {
     "data": {
      "text/html": [
       "<div>\n",
       "<style scoped>\n",
       "    .dataframe tbody tr th:only-of-type {\n",
       "        vertical-align: middle;\n",
       "    }\n",
       "\n",
       "    .dataframe tbody tr th {\n",
       "        vertical-align: top;\n",
       "    }\n",
       "\n",
       "    .dataframe thead th {\n",
       "        text-align: right;\n",
       "    }\n",
       "</style>\n",
       "<table border=\"1\" class=\"dataframe\">\n",
       "  <thead>\n",
       "    <tr style=\"text-align: right;\">\n",
       "      <th></th>\n",
       "      <th>시군구</th>\n",
       "      <th>번지</th>\n",
       "      <th>도로조건</th>\n",
       "      <th>계약면적(㎡)</th>\n",
       "      <th>계약년월</th>\n",
       "      <th>계약일</th>\n",
       "      <th>보증금(만원)</th>\n",
       "      <th>월세(만원)</th>\n",
       "      <th>건축년도</th>\n",
       "      <th>도로명</th>\n",
       "      <th>year</th>\n",
       "      <th>month</th>\n",
       "      <th>전월세구분_월세</th>\n",
       "      <th>전월세구분_전세</th>\n",
       "      <th>전월세전환율</th>\n",
       "      <th>전세전환가격</th>\n",
       "    </tr>\n",
       "  </thead>\n",
       "  <tbody>\n",
       "    <tr>\n",
       "      <th>0</th>\n",
       "      <td>경상남도 진주시 가좌동</td>\n",
       "      <td>1***</td>\n",
       "      <td>12</td>\n",
       "      <td>15.0</td>\n",
       "      <td>202107</td>\n",
       "      <td>4</td>\n",
       "      <td>150</td>\n",
       "      <td>30</td>\n",
       "      <td>2016</td>\n",
       "      <td>가좌길48번길</td>\n",
       "      <td>2021</td>\n",
       "      <td>7</td>\n",
       "      <td>1</td>\n",
       "      <td>0</td>\n",
       "      <td>6.4</td>\n",
       "      <td>5775</td>\n",
       "    </tr>\n",
       "    <tr>\n",
       "      <th>1</th>\n",
       "      <td>경상남도 진주시 가좌동</td>\n",
       "      <td>1***</td>\n",
       "      <td>12</td>\n",
       "      <td>19.0</td>\n",
       "      <td>202107</td>\n",
       "      <td>17</td>\n",
       "      <td>200</td>\n",
       "      <td>30</td>\n",
       "      <td>2019</td>\n",
       "      <td>가좌길48번길</td>\n",
       "      <td>2021</td>\n",
       "      <td>7</td>\n",
       "      <td>1</td>\n",
       "      <td>0</td>\n",
       "      <td>6.4</td>\n",
       "      <td>5825</td>\n",
       "    </tr>\n",
       "    <tr>\n",
       "      <th>2</th>\n",
       "      <td>경상남도 진주시 가좌동</td>\n",
       "      <td>1***</td>\n",
       "      <td>12</td>\n",
       "      <td>19.0</td>\n",
       "      <td>202107</td>\n",
       "      <td>18</td>\n",
       "      <td>5000</td>\n",
       "      <td>10</td>\n",
       "      <td>2019</td>\n",
       "      <td>가좌길48번길</td>\n",
       "      <td>2021</td>\n",
       "      <td>7</td>\n",
       "      <td>1</td>\n",
       "      <td>0</td>\n",
       "      <td>6.4</td>\n",
       "      <td>6875</td>\n",
       "    </tr>\n",
       "    <tr>\n",
       "      <th>3</th>\n",
       "      <td>경상남도 진주시 가좌동</td>\n",
       "      <td>1***</td>\n",
       "      <td>8</td>\n",
       "      <td>19.8</td>\n",
       "      <td>202107</td>\n",
       "      <td>17</td>\n",
       "      <td>200</td>\n",
       "      <td>32</td>\n",
       "      <td>2017</td>\n",
       "      <td>가좌길60번길</td>\n",
       "      <td>2021</td>\n",
       "      <td>7</td>\n",
       "      <td>1</td>\n",
       "      <td>0</td>\n",
       "      <td>6.4</td>\n",
       "      <td>6200</td>\n",
       "    </tr>\n",
       "    <tr>\n",
       "      <th>4</th>\n",
       "      <td>경상남도 진주시 가좌동</td>\n",
       "      <td>1***</td>\n",
       "      <td>12</td>\n",
       "      <td>20.0</td>\n",
       "      <td>202107</td>\n",
       "      <td>21</td>\n",
       "      <td>100</td>\n",
       "      <td>25</td>\n",
       "      <td>2015</td>\n",
       "      <td>가좌길48번길</td>\n",
       "      <td>2021</td>\n",
       "      <td>7</td>\n",
       "      <td>1</td>\n",
       "      <td>0</td>\n",
       "      <td>6.4</td>\n",
       "      <td>4788</td>\n",
       "    </tr>\n",
       "    <tr>\n",
       "      <th>...</th>\n",
       "      <td>...</td>\n",
       "      <td>...</td>\n",
       "      <td>...</td>\n",
       "      <td>...</td>\n",
       "      <td>...</td>\n",
       "      <td>...</td>\n",
       "      <td>...</td>\n",
       "      <td>...</td>\n",
       "      <td>...</td>\n",
       "      <td>...</td>\n",
       "      <td>...</td>\n",
       "      <td>...</td>\n",
       "      <td>...</td>\n",
       "      <td>...</td>\n",
       "      <td>...</td>\n",
       "      <td>...</td>\n",
       "    </tr>\n",
       "    <tr>\n",
       "      <th>1614</th>\n",
       "      <td>경상남도 진주시 가좌동</td>\n",
       "      <td>1***</td>\n",
       "      <td>8</td>\n",
       "      <td>30.0</td>\n",
       "      <td>201910</td>\n",
       "      <td>20</td>\n",
       "      <td>6000</td>\n",
       "      <td>0</td>\n",
       "      <td>2018</td>\n",
       "      <td>가좌길44번길</td>\n",
       "      <td>2019</td>\n",
       "      <td>10</td>\n",
       "      <td>0</td>\n",
       "      <td>1</td>\n",
       "      <td>7.0</td>\n",
       "      <td>6000</td>\n",
       "    </tr>\n",
       "    <tr>\n",
       "      <th>1615</th>\n",
       "      <td>경상남도 진주시 가좌동</td>\n",
       "      <td>4**</td>\n",
       "      <td>12</td>\n",
       "      <td>33.0</td>\n",
       "      <td>201910</td>\n",
       "      <td>20</td>\n",
       "      <td>1500</td>\n",
       "      <td>30</td>\n",
       "      <td>2010</td>\n",
       "      <td>개양로6번길</td>\n",
       "      <td>2019</td>\n",
       "      <td>10</td>\n",
       "      <td>1</td>\n",
       "      <td>0</td>\n",
       "      <td>7.0</td>\n",
       "      <td>6643</td>\n",
       "    </tr>\n",
       "    <tr>\n",
       "      <th>1616</th>\n",
       "      <td>경상남도 진주시 가좌동</td>\n",
       "      <td>5**</td>\n",
       "      <td>12</td>\n",
       "      <td>25.0</td>\n",
       "      <td>201904</td>\n",
       "      <td>5</td>\n",
       "      <td>300</td>\n",
       "      <td>33</td>\n",
       "      <td>2007</td>\n",
       "      <td>진주대로500번길</td>\n",
       "      <td>2019</td>\n",
       "      <td>4</td>\n",
       "      <td>1</td>\n",
       "      <td>0</td>\n",
       "      <td>6.0</td>\n",
       "      <td>6900</td>\n",
       "    </tr>\n",
       "    <tr>\n",
       "      <th>1617</th>\n",
       "      <td>경상남도 진주시 가좌동</td>\n",
       "      <td>4**</td>\n",
       "      <td>12</td>\n",
       "      <td>27.0</td>\n",
       "      <td>201904</td>\n",
       "      <td>16</td>\n",
       "      <td>250</td>\n",
       "      <td>30</td>\n",
       "      <td>2007</td>\n",
       "      <td>개양로6번길</td>\n",
       "      <td>2019</td>\n",
       "      <td>4</td>\n",
       "      <td>1</td>\n",
       "      <td>0</td>\n",
       "      <td>6.0</td>\n",
       "      <td>6250</td>\n",
       "    </tr>\n",
       "    <tr>\n",
       "      <th>1618</th>\n",
       "      <td>경상남도 진주시 가좌동</td>\n",
       "      <td>6**</td>\n",
       "      <td>12</td>\n",
       "      <td>33.0</td>\n",
       "      <td>201905</td>\n",
       "      <td>11</td>\n",
       "      <td>100</td>\n",
       "      <td>20</td>\n",
       "      <td>2001</td>\n",
       "      <td>진주대로</td>\n",
       "      <td>2019</td>\n",
       "      <td>5</td>\n",
       "      <td>1</td>\n",
       "      <td>0</td>\n",
       "      <td>6.4</td>\n",
       "      <td>3850</td>\n",
       "    </tr>\n",
       "  </tbody>\n",
       "</table>\n",
       "<p>1619 rows × 16 columns</p>\n",
       "</div>"
      ],
      "text/plain": [
       "               시군구    번지  도로조건  계약면적(㎡)    계약년월  계약일  보증금(만원)  월세(만원)  건축년도  \\\n",
       "0     경상남도 진주시 가좌동  1***    12     15.0  202107    4      150      30  2016   \n",
       "1     경상남도 진주시 가좌동  1***    12     19.0  202107   17      200      30  2019   \n",
       "2     경상남도 진주시 가좌동  1***    12     19.0  202107   18     5000      10  2019   \n",
       "3     경상남도 진주시 가좌동  1***     8     19.8  202107   17      200      32  2017   \n",
       "4     경상남도 진주시 가좌동  1***    12     20.0  202107   21      100      25  2015   \n",
       "...            ...   ...   ...      ...     ...  ...      ...     ...   ...   \n",
       "1614  경상남도 진주시 가좌동  1***     8     30.0  201910   20     6000       0  2018   \n",
       "1615  경상남도 진주시 가좌동   4**    12     33.0  201910   20     1500      30  2010   \n",
       "1616  경상남도 진주시 가좌동   5**    12     25.0  201904    5      300      33  2007   \n",
       "1617  경상남도 진주시 가좌동   4**    12     27.0  201904   16      250      30  2007   \n",
       "1618  경상남도 진주시 가좌동   6**    12     33.0  201905   11      100      20  2001   \n",
       "\n",
       "            도로명  year  month  전월세구분_월세  전월세구분_전세 전월세전환율  전세전환가격  \n",
       "0       가좌길48번길  2021      7         1         0    6.4    5775  \n",
       "1       가좌길48번길  2021      7         1         0    6.4    5825  \n",
       "2       가좌길48번길  2021      7         1         0    6.4    6875  \n",
       "3       가좌길60번길  2021      7         1         0    6.4    6200  \n",
       "4       가좌길48번길  2021      7         1         0    6.4    4788  \n",
       "...         ...   ...    ...       ...       ...    ...     ...  \n",
       "1614    가좌길44번길  2019     10         0         1    7.0    6000  \n",
       "1615     개양로6번길  2019     10         1         0    7.0    6643  \n",
       "1616  진주대로500번길  2019      4         1         0    6.0    6900  \n",
       "1617     개양로6번길  2019      4         1         0    6.0    6250  \n",
       "1618       진주대로  2019      5         1         0    6.4    3850  \n",
       "\n",
       "[1619 rows x 16 columns]"
      ]
     },
     "execution_count": 336,
     "metadata": {},
     "output_type": "execute_result"
    }
   ],
   "source": [
    "folder = os.listdir()\n",
    "\n",
    "file = []\n",
    "for f in folder:\n",
    "    if \"실거래가\" in f:\n",
    "        data = pd.read_csv(\"./\" + f, encoding=\"cp949\", skiprows=15)\n",
    "        data = data[list(data.columns[:11])]\n",
    "        file.append(data)\n",
    "\n",
    "gajwa = pd.concat(file)\n",
    "gajwa = gajwa.dropna(axis=0)\n",
    "\n",
    "# 도로조건을 정수로 변환\n",
    "road=[]\n",
    "for a in gajwa[\"도로조건\"]:\n",
    "    if a==\"-\":\n",
    "        a = \"0\"\n",
    "    road.append(int(a.split(\"m\")[0]))\n",
    "gajwa[\"도로조건\"] = road\n",
    "\n",
    "\n",
    "# 년월 column 생성\n",
    "year=[]\n",
    "month=[]\n",
    "for d in gajwa[\"계약년월\"]:\n",
    "    day = pd.to_datetime(d, format=\"%Y%m\")\n",
    "    year.append(day.year)\n",
    "    month.append(day.month)\n",
    "\n",
    "gajwa[\"year\"] = year\n",
    "gajwa[\"month\"] = month\n",
    "\n",
    "built_day = [pd.to_datetime(d, format=\"%Y\").year for d in gajwa[\"건축년도\"]]\n",
    "gajwa[\"건축년도\"] = built_day\n",
    "\n",
    "\n",
    "#원핫인코딩으로 전월세 구분하기\n",
    "gajwa = pd.get_dummies(gajwa, columns = [\"전월세구분\"])\n",
    "#gajwa = pd.get_dummies(gajwa, columns = [\"도로명\"])\n",
    "\n",
    "# 계약년월 기준으로 전월세전환율 입력하기\n",
    "rate = pd.read_csv(\"./지역별_전월세전환율_20221112193907.csv\", encoding=\"cp949\")\n",
    "rate = rate.T\n",
    "rate = rate[2:]\n",
    "\n",
    "month = []\n",
    "for r in rate.index:\n",
    "    new = \"\".join(r.split(\".\"))\n",
    "    month.append(int(new))\n",
    "\n",
    "rate[\"계약년월\"] = month\n",
    "rate.columns = [\"전월세전환율\", \"계약년월\"]\n",
    "rate.head()\n",
    "\n",
    "gajwa = pd.merge(left=gajwa, right=rate, how=\"inner\", on=\"계약년월\")\n",
    "\n",
    "keep = [int(\"\".join(k.split(\",\"))) for k in gajwa[\"보증금(만원)\"]]\n",
    "gajwa[\"보증금(만원)\"] = keep\n",
    "\n",
    "\n",
    "# 전월세전환율 기준으로 보증금+월세의 가치를 전세로 치환하여 value column으로 만들어준다.\n",
    "value=[round(gajwa[\"월세(만원)\"][i] * 12 / (gajwa[\"전월세전환율\"][i]/100) + gajwa[\"보증금(만원)\"][i]) for i in range(len(gajwa))]\n",
    "gajwa[\"전세전환가격\"] = value\n",
    "#gajwa[\"도로별 전세값평균\"] = gajwa.groupby(\"도로명\").전세전환가격.transform(\"mean\")\n",
    "\n",
    "gajwa"
   ]
  },
  {
   "cell_type": "code",
   "execution_count": 323,
   "metadata": {},
   "outputs": [],
   "source": [
    "# 전세 월세 구분 데이터셋\n",
    "# gajwa = gajwa[gajwa.전월세구분 == \"월세\"]\n",
    "# gajwa = pd.DataFrame.drop(gajwa, columns=[\"전월세구분\"], axis=1)\n",
    "# gajwa"
   ]
  },
  {
   "cell_type": "code",
   "execution_count": 337,
   "metadata": {},
   "outputs": [
    {
     "data": {
      "text/html": [
       "<div>\n",
       "<style scoped>\n",
       "    .dataframe tbody tr th:only-of-type {\n",
       "        vertical-align: middle;\n",
       "    }\n",
       "\n",
       "    .dataframe tbody tr th {\n",
       "        vertical-align: top;\n",
       "    }\n",
       "\n",
       "    .dataframe thead th {\n",
       "        text-align: right;\n",
       "    }\n",
       "</style>\n",
       "<table border=\"1\" class=\"dataframe\">\n",
       "  <thead>\n",
       "    <tr style=\"text-align: right;\">\n",
       "      <th></th>\n",
       "      <th>도로조건</th>\n",
       "      <th>계약면적(㎡)</th>\n",
       "      <th>건축년도</th>\n",
       "      <th>year</th>\n",
       "      <th>month</th>\n",
       "      <th>전월세구분_월세</th>\n",
       "      <th>전월세구분_전세</th>\n",
       "      <th>전세전환가격</th>\n",
       "    </tr>\n",
       "  </thead>\n",
       "  <tbody>\n",
       "    <tr>\n",
       "      <th>0</th>\n",
       "      <td>12</td>\n",
       "      <td>15.0</td>\n",
       "      <td>2016</td>\n",
       "      <td>2021</td>\n",
       "      <td>7</td>\n",
       "      <td>1</td>\n",
       "      <td>0</td>\n",
       "      <td>5775</td>\n",
       "    </tr>\n",
       "    <tr>\n",
       "      <th>1</th>\n",
       "      <td>12</td>\n",
       "      <td>19.0</td>\n",
       "      <td>2019</td>\n",
       "      <td>2021</td>\n",
       "      <td>7</td>\n",
       "      <td>1</td>\n",
       "      <td>0</td>\n",
       "      <td>5825</td>\n",
       "    </tr>\n",
       "    <tr>\n",
       "      <th>2</th>\n",
       "      <td>12</td>\n",
       "      <td>19.0</td>\n",
       "      <td>2019</td>\n",
       "      <td>2021</td>\n",
       "      <td>7</td>\n",
       "      <td>1</td>\n",
       "      <td>0</td>\n",
       "      <td>6875</td>\n",
       "    </tr>\n",
       "    <tr>\n",
       "      <th>3</th>\n",
       "      <td>8</td>\n",
       "      <td>19.8</td>\n",
       "      <td>2017</td>\n",
       "      <td>2021</td>\n",
       "      <td>7</td>\n",
       "      <td>1</td>\n",
       "      <td>0</td>\n",
       "      <td>6200</td>\n",
       "    </tr>\n",
       "    <tr>\n",
       "      <th>4</th>\n",
       "      <td>12</td>\n",
       "      <td>20.0</td>\n",
       "      <td>2015</td>\n",
       "      <td>2021</td>\n",
       "      <td>7</td>\n",
       "      <td>1</td>\n",
       "      <td>0</td>\n",
       "      <td>4788</td>\n",
       "    </tr>\n",
       "    <tr>\n",
       "      <th>...</th>\n",
       "      <td>...</td>\n",
       "      <td>...</td>\n",
       "      <td>...</td>\n",
       "      <td>...</td>\n",
       "      <td>...</td>\n",
       "      <td>...</td>\n",
       "      <td>...</td>\n",
       "      <td>...</td>\n",
       "    </tr>\n",
       "    <tr>\n",
       "      <th>1614</th>\n",
       "      <td>8</td>\n",
       "      <td>30.0</td>\n",
       "      <td>2018</td>\n",
       "      <td>2019</td>\n",
       "      <td>10</td>\n",
       "      <td>0</td>\n",
       "      <td>1</td>\n",
       "      <td>6000</td>\n",
       "    </tr>\n",
       "    <tr>\n",
       "      <th>1615</th>\n",
       "      <td>12</td>\n",
       "      <td>33.0</td>\n",
       "      <td>2010</td>\n",
       "      <td>2019</td>\n",
       "      <td>10</td>\n",
       "      <td>1</td>\n",
       "      <td>0</td>\n",
       "      <td>6643</td>\n",
       "    </tr>\n",
       "    <tr>\n",
       "      <th>1616</th>\n",
       "      <td>12</td>\n",
       "      <td>25.0</td>\n",
       "      <td>2007</td>\n",
       "      <td>2019</td>\n",
       "      <td>4</td>\n",
       "      <td>1</td>\n",
       "      <td>0</td>\n",
       "      <td>6900</td>\n",
       "    </tr>\n",
       "    <tr>\n",
       "      <th>1617</th>\n",
       "      <td>12</td>\n",
       "      <td>27.0</td>\n",
       "      <td>2007</td>\n",
       "      <td>2019</td>\n",
       "      <td>4</td>\n",
       "      <td>1</td>\n",
       "      <td>0</td>\n",
       "      <td>6250</td>\n",
       "    </tr>\n",
       "    <tr>\n",
       "      <th>1618</th>\n",
       "      <td>12</td>\n",
       "      <td>33.0</td>\n",
       "      <td>2001</td>\n",
       "      <td>2019</td>\n",
       "      <td>5</td>\n",
       "      <td>1</td>\n",
       "      <td>0</td>\n",
       "      <td>3850</td>\n",
       "    </tr>\n",
       "  </tbody>\n",
       "</table>\n",
       "<p>1619 rows × 8 columns</p>\n",
       "</div>"
      ],
      "text/plain": [
       "      도로조건  계약면적(㎡)  건축년도  year  month  전월세구분_월세  전월세구분_전세  전세전환가격\n",
       "0       12     15.0  2016  2021      7         1         0    5775\n",
       "1       12     19.0  2019  2021      7         1         0    5825\n",
       "2       12     19.0  2019  2021      7         1         0    6875\n",
       "3        8     19.8  2017  2021      7         1         0    6200\n",
       "4       12     20.0  2015  2021      7         1         0    4788\n",
       "...    ...      ...   ...   ...    ...       ...       ...     ...\n",
       "1614     8     30.0  2018  2019     10         0         1    6000\n",
       "1615    12     33.0  2010  2019     10         1         0    6643\n",
       "1616    12     25.0  2007  2019      4         1         0    6900\n",
       "1617    12     27.0  2007  2019      4         1         0    6250\n",
       "1618    12     33.0  2001  2019      5         1         0    3850\n",
       "\n",
       "[1619 rows x 8 columns]"
      ]
     },
     "execution_count": 337,
     "metadata": {},
     "output_type": "execute_result"
    }
   ],
   "source": [
    "gajwa_data = pd.DataFrame.drop(gajwa, columns=[\"시군구\",\"계약년월\", \"번지\",\"도로명\", \"계약일\", \"보증금(만원)\", \"월세(만원)\", \"전월세전환율\"], axis=1)\n",
    "\n",
    "gajwa_data"
   ]
  },
  {
   "cell_type": "markdown",
   "metadata": {},
   "source": [
    "# 머신러닝"
   ]
  },
  {
   "cell_type": "code",
   "execution_count": 351,
   "metadata": {},
   "outputs": [],
   "source": [
    "from sklearn.model_selection import train_test_split\n",
    "from sklearn.linear_model import LinearRegression, Ridge, Lasso, ElasticNet\n",
    "from sklearn.neighbors import KNeighborsRegressor\n",
    "from sklearn.ensemble import RandomForestRegressor\n",
    "from sklearn.tree import DecisionTreeRegressor\n",
    "from xgboost import XGBRegressor\n",
    "from xgboost import plot_importance\n",
    "import lightgbm as lgb\n",
    "from sklearn.preprocessing import StandardScaler\n",
    "from sklearn.metrics import mean_squared_error, r2_score"
   ]
  },
  {
   "cell_type": "code",
   "execution_count": 339,
   "metadata": {},
   "outputs": [],
   "source": [
    "X = gajwa_data.drop([\"전세전환가격\"], axis=1)\n",
    "y = gajwa_data['전세전환가격']"
   ]
  },
  {
   "cell_type": "code",
   "execution_count": 340,
   "metadata": {},
   "outputs": [],
   "source": [
    "X_train, X_test, y_train, y_test = train_test_split(X, y, test_size=0.2, shuffle=True, random_state=1645)"
   ]
  },
  {
   "cell_type": "code",
   "execution_count": 341,
   "metadata": {},
   "outputs": [],
   "source": [
    "scaler = StandardScaler()\n",
    "X_train_standardized = scaler.fit_transform(X_train)\n",
    "X_test_standardized = scaler.fit_transform(X_test)"
   ]
  },
  {
   "cell_type": "markdown",
   "metadata": {},
   "source": [
    "## 선형회귀분석"
   ]
  },
  {
   "cell_type": "code",
   "execution_count": 342,
   "metadata": {},
   "outputs": [
    {
     "name": "stdout",
     "output_type": "stream",
     "text": [
      "MSE : 1952877.369 RMSE: 1397.454\n",
      "variance score : 0.593\n"
     ]
    }
   ],
   "source": [
    "lr = LinearRegression()\n",
    "lr.fit(X_train, y_train)\n",
    "y_preds = lr.predict(X_test)\n",
    "\n",
    "mse = mean_squared_error(y_test, y_preds)\n",
    "rmse = np.sqrt(mse)\n",
    "\n",
    "print(f\"MSE : {mse:.3f}\", f\"RMSE: {rmse:.3f}\")\n",
    "print(f\"variance score : {r2_score(y_test, y_preds):.3f}\")"
   ]
  },
  {
   "cell_type": "code",
   "execution_count": 343,
   "metadata": {},
   "outputs": [
    {
     "data": {
      "text/plain": [
       "0.5771783311789033"
      ]
     },
     "execution_count": 343,
     "metadata": {},
     "output_type": "execute_result"
    }
   ],
   "source": [
    "lr.fit(X_train_standardized, y_train)\n",
    "lr.score(X_test_standardized, y_test)"
   ]
  },
  {
   "cell_type": "markdown",
   "metadata": {},
   "source": [
    "## Ridge"
   ]
  },
  {
   "cell_type": "code",
   "execution_count": 344,
   "metadata": {},
   "outputs": [
    {
     "name": "stdout",
     "output_type": "stream",
     "text": [
      "0.5927548888098645\n"
     ]
    },
    {
     "data": {
      "text/plain": [
       "0.5770507701497398"
      ]
     },
     "execution_count": 344,
     "metadata": {},
     "output_type": "execute_result"
    }
   ],
   "source": [
    "R_model = Ridge()\n",
    "R_model.fit(X_train, y_train)\n",
    "print(R_model.score(X_test, y_test))\n",
    "\n",
    "R_model.fit(X_train_standardized, y_train)\n",
    "R_model.score(X_test_standardized, y_test)"
   ]
  },
  {
   "cell_type": "markdown",
   "metadata": {},
   "source": [
    "## Lasso"
   ]
  },
  {
   "cell_type": "code",
   "execution_count": 345,
   "metadata": {},
   "outputs": [
    {
     "name": "stdout",
     "output_type": "stream",
     "text": [
      "0.5927444170906662\n"
     ]
    },
    {
     "data": {
      "text/plain": [
       "0.5770794210713412"
      ]
     },
     "execution_count": 345,
     "metadata": {},
     "output_type": "execute_result"
    }
   ],
   "source": [
    "L_model = Lasso(alpha=0.5)\n",
    "L_model.fit(X_train, y_train)\n",
    "print(L_model.score(X_test, y_test))\n",
    "\n",
    "L_model.fit(X_train_standardized, y_train)\n",
    "L_model.score(X_test_standardized, y_test)"
   ]
  },
  {
   "cell_type": "markdown",
   "metadata": {},
   "source": [
    "## ElasticNet"
   ]
  },
  {
   "cell_type": "code",
   "execution_count": 346,
   "metadata": {},
   "outputs": [
    {
     "name": "stdout",
     "output_type": "stream",
     "text": [
      "0.5715387900781675\n"
     ]
    },
    {
     "data": {
      "text/plain": [
       "0.527454580829321"
      ]
     },
     "execution_count": 346,
     "metadata": {},
     "output_type": "execute_result"
    }
   ],
   "source": [
    "ela = ElasticNet(alpha=0.5)\n",
    "ela.fit(X_train, y_train)\n",
    "print(ela.score(X_test, y_test))\n",
    "\n",
    "ela.fit(X_train_standardized, y_train)\n",
    "ela.score(X_test_standardized, y_test)"
   ]
  },
  {
   "cell_type": "markdown",
   "metadata": {},
   "source": [
    "## 랜덤포레스트"
   ]
  },
  {
   "cell_type": "code",
   "execution_count": 347,
   "metadata": {},
   "outputs": [
    {
     "name": "stdout",
     "output_type": "stream",
     "text": [
      "0.6766030076429215\n"
     ]
    },
    {
     "data": {
      "text/plain": [
       "0.703970042749174"
      ]
     },
     "execution_count": 347,
     "metadata": {},
     "output_type": "execute_result"
    }
   ],
   "source": [
    "randomforest = RandomForestRegressor(random_state=0, n_jobs=-1)\n",
    "randomforest_model = randomforest.fit(X_train, y_train)\n",
    "print(randomforest_model.score(X_test, y_test))\n",
    "\n",
    "randomforest_model = randomforest.fit(X_train_standardized, y_train)\n",
    "randomforest_model.score(X_test_standardized, y_test)"
   ]
  },
  {
   "cell_type": "markdown",
   "metadata": {},
   "source": [
    "## 결정 트리 회귀"
   ]
  },
  {
   "cell_type": "code",
   "execution_count": 348,
   "metadata": {},
   "outputs": [
    {
     "name": "stderr",
     "output_type": "stream",
     "text": [
      "/Users/chance/opt/anaconda3/envs/py3/lib/python3.9/site-packages/sklearn/tree/_classes.py:366: FutureWarning: Criterion 'mae' was deprecated in v1.0 and will be removed in version 1.2. Use `criterion='absolute_error'` which is equivalent.\n",
      "  warnings.warn(\n"
     ]
    },
    {
     "data": {
      "text/plain": [
       "0.4135482475980258"
      ]
     },
     "execution_count": 348,
     "metadata": {},
     "output_type": "execute_result"
    }
   ],
   "source": [
    "decisiontree_mae = DecisionTreeRegressor(criterion=\"mae\", random_state=0)\n",
    "model_mae = decisiontree_mae.fit(X_train, y_train)\n",
    "model_mae.score(X_test, y_test)"
   ]
  },
  {
   "cell_type": "code",
   "execution_count": 364,
   "metadata": {},
   "outputs": [
    {
     "name": "stdout",
     "output_type": "stream",
     "text": [
      "0.6973078207750172\n"
     ]
    },
    {
     "name": "stderr",
     "output_type": "stream",
     "text": [
      "/Users/chance/opt/anaconda3/envs/py3/lib/python3.9/site-packages/xgboost/data.py:250: FutureWarning: pandas.Int64Index is deprecated and will be removed from pandas in a future version. Use pandas.Index with the appropriate dtype instead.\n",
      "  elif isinstance(data.columns, (pd.Int64Index, pd.RangeIndex)):\n"
     ]
    },
    {
     "data": {
      "text/plain": [
       "0.7060384876948637"
      ]
     },
     "execution_count": 364,
     "metadata": {},
     "output_type": "execute_result"
    }
   ],
   "source": [
    "xgboost = XGBRegressor(n_estimators=50)\n",
    "xgboost.fit(X_train, y_train)\n",
    "print(xgboost.score(X_test, y_test))\n",
    "\n",
    "xgboost = xgboost.fit(X_train_standardized, y_train)\n",
    "xgboost.score(X_test_standardized, y_test)"
   ]
  },
  {
   "cell_type": "code",
   "execution_count": 277,
   "metadata": {},
   "outputs": [
    {
     "data": {
      "text/plain": [
       "<AxesSubplot:title={'center':'Feature importance'}, xlabel='F score', ylabel='Features'>"
      ]
     },
     "execution_count": 277,
     "metadata": {},
     "output_type": "execute_result"
    },
    {
     "data": {
      "image/png": "[encoded data removed]",
      "text/plain": [
       "<Figure size 640x480 with 1 Axes>"
      ]
     },
     "metadata": {},
     "output_type": "display_data"
    }
   ],
   "source": [
    "plot_importance(xgboost)"
   ]
  },
  {
   "cell_type": "markdown",
   "metadata": {},
   "source": [
    "## 데이터시각화"
   ]
  },
  {
   "cell_type": "code",
   "execution_count": 278,
   "metadata": {},
   "outputs": [
    {
     "data": {
      "text/html": [
       "<div>\n",
       "<style scoped>\n",
       "    .dataframe tbody tr th:only-of-type {\n",
       "        vertical-align: middle;\n",
       "    }\n",
       "\n",
       "    .dataframe tbody tr th {\n",
       "        vertical-align: top;\n",
       "    }\n",
       "\n",
       "    .dataframe thead th {\n",
       "        text-align: right;\n",
       "    }\n",
       "</style>\n",
       "<table border=\"1\" class=\"dataframe\">\n",
       "  <thead>\n",
       "    <tr style=\"text-align: right;\">\n",
       "      <th></th>\n",
       "      <th>도로조건</th>\n",
       "      <th>계약면적(㎡)</th>\n",
       "      <th>건축년도</th>\n",
       "      <th>year</th>\n",
       "      <th>month</th>\n",
       "      <th>전세전환가격</th>\n",
       "    </tr>\n",
       "  </thead>\n",
       "  <tbody>\n",
       "    <tr>\n",
       "      <th>도로조건</th>\n",
       "      <td>1.000000</td>\n",
       "      <td>0.132349</td>\n",
       "      <td>-0.101469</td>\n",
       "      <td>0.027625</td>\n",
       "      <td>-0.020996</td>\n",
       "      <td>0.106624</td>\n",
       "    </tr>\n",
       "    <tr>\n",
       "      <th>계약면적(㎡)</th>\n",
       "      <td>0.132349</td>\n",
       "      <td>1.000000</td>\n",
       "      <td>-0.161862</td>\n",
       "      <td>-0.055696</td>\n",
       "      <td>0.091078</td>\n",
       "      <td>0.666579</td>\n",
       "    </tr>\n",
       "    <tr>\n",
       "      <th>건축년도</th>\n",
       "      <td>-0.101469</td>\n",
       "      <td>-0.161862</td>\n",
       "      <td>1.000000</td>\n",
       "      <td>0.155967</td>\n",
       "      <td>-0.053328</td>\n",
       "      <td>0.002639</td>\n",
       "    </tr>\n",
       "    <tr>\n",
       "      <th>year</th>\n",
       "      <td>0.027625</td>\n",
       "      <td>-0.055696</td>\n",
       "      <td>0.155967</td>\n",
       "      <td>1.000000</td>\n",
       "      <td>-0.266773</td>\n",
       "      <td>-0.068923</td>\n",
       "    </tr>\n",
       "    <tr>\n",
       "      <th>month</th>\n",
       "      <td>-0.020996</td>\n",
       "      <td>0.091078</td>\n",
       "      <td>-0.053328</td>\n",
       "      <td>-0.266773</td>\n",
       "      <td>1.000000</td>\n",
       "      <td>0.099238</td>\n",
       "    </tr>\n",
       "    <tr>\n",
       "      <th>전세전환가격</th>\n",
       "      <td>0.106624</td>\n",
       "      <td>0.666579</td>\n",
       "      <td>0.002639</td>\n",
       "      <td>-0.068923</td>\n",
       "      <td>0.099238</td>\n",
       "      <td>1.000000</td>\n",
       "    </tr>\n",
       "  </tbody>\n",
       "</table>\n",
       "</div>"
      ],
      "text/plain": [
       "             도로조건   계약면적(㎡)      건축년도      year     month    전세전환가격\n",
       "도로조건     1.000000  0.132349 -0.101469  0.027625 -0.020996  0.106624\n",
       "계약면적(㎡)  0.132349  1.000000 -0.161862 -0.055696  0.091078  0.666579\n",
       "건축년도    -0.101469 -0.161862  1.000000  0.155967 -0.053328  0.002639\n",
       "year     0.027625 -0.055696  0.155967  1.000000 -0.266773 -0.068923\n",
       "month   -0.020996  0.091078 -0.053328 -0.266773  1.000000  0.099238\n",
       "전세전환가격   0.106624  0.666579  0.002639 -0.068923  0.099238  1.000000"
      ]
     },
     "execution_count": 278,
     "metadata": {},
     "output_type": "execute_result"
    }
   ],
   "source": [
    "corr = gajwa_data.corr()\n",
    "corr"
   ]
  },
  {
   "cell_type": "markdown",
   "metadata": {},
   "source": [
    "## 카카오맵api"
   ]
  },
  {
   "cell_type": "code",
   "execution_count": 365,
   "metadata": {},
   "outputs": [
    {
     "ename": "ModuleNotFoundError",
     "evalue": "No module named 'folium'",
     "output_type": "error",
     "traceback": [
      "\u001b[0;31m---------------------------------------------------------------------------\u001b[0m",
      "\u001b[0;31mModuleNotFoundError\u001b[0m                       Traceback (most recent call last)",
      "\u001b[0;32m/var/folders/zs/nhxg8dr522z1hvsl9b42pyd40000gn/T/ipykernel_88433/679699144.py\u001b[0m in \u001b[0;36m<cell line: 1>\u001b[0;34m()\u001b[0m\n\u001b[0;32m----> 1\u001b[0;31m \u001b[0;32mimport\u001b[0m \u001b[0mfolium\u001b[0m\u001b[0;34m\u001b[0m\u001b[0;34m\u001b[0m\u001b[0m\n\u001b[0m\u001b[1;32m      2\u001b[0m \u001b[0;34m\u001b[0m\u001b[0m\n\u001b[1;32m      3\u001b[0m \u001b[0mm\u001b[0m \u001b[0;34m=\u001b[0m \u001b[0mfolium\u001b[0m\u001b[0;34m.\u001b[0m\u001b[0mMap\u001b[0m\u001b[0;34m(\u001b[0m\u001b[0mlocation\u001b[0m\u001b[0;34m=\u001b[0m\u001b[0;34m[\u001b[0m\u001b[0;36m37.53897093698831\u001b[0m\u001b[0;34m,\u001b[0m \u001b[0;36m127.054619553077439\u001b[0m\u001b[0;34m]\u001b[0m\u001b[0;34m,\u001b[0m \u001b[0mzoom_start\u001b[0m\u001b[0;34m=\u001b[0m\u001b[0;36m14\u001b[0m\u001b[0;34m)\u001b[0m\u001b[0;34m\u001b[0m\u001b[0;34m\u001b[0m\u001b[0m\n",
      "\u001b[0;31mModuleNotFoundError\u001b[0m: No module named 'folium'"
     ]
    }
   ],
   "source": [
    "import folium\n",
    "\n",
    "m = folium.Map(location=[37.53897093698831, 127.054619553077439], zoom_start=14)"
   ]
  },
  {
   "cell_type": "code",
   "execution_count": null,
   "metadata": {},
   "outputs": [],
   "source": []
  }
 ],
 "metadata": {
  "kernelspec": {
   "display_name": "Python 3.9.13 ('py3')",
   "language": "python",
   "name": "python3"
  },
  "language_info": {
   "codemirror_mode": {
    "name": "ipython",
    "version": 3
   },
   "file_extension": ".py",
   "mimetype": "text/x-python",
   "name": "python",
   "nbconvert_exporter": "python",
   "pygments_lexer": "ipython3",
   "version": "3.9.13"
  },
  "orig_nbformat": 4,
  "vscode": {
   "interpreter": {
    "hash": "19424bb408e333eeefccbf53ade33f9eedcad6659a710ab81cbc6a4ebba241fc"
   }
  }
 },
 "nbformat": 4,
 "nbformat_minor": 2
}
