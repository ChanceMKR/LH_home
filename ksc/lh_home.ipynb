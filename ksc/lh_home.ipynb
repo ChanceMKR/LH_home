{
 "cells": [
  {
   "cell_type": "code",
   "execution_count": 1,
   "metadata": {},
   "outputs": [],
   "source": [
    "import pandas as pd\n",
    "import numpy as np\n",
    "import matplotlib.pyplot as plt\n",
    "import os"
   ]
  },
  {
   "cell_type": "code",
   "execution_count": 2,
   "metadata": {},
   "outputs": [
    {
     "data": {
      "text/plain": [
       "'/Users/chance/Desktop/LH_home/ksc'"
      ]
     },
     "execution_count": 2,
     "metadata": {},
     "output_type": "execute_result"
    }
   ],
   "source": [
    "os.getcwd()"
   ]
  },
  {
   "cell_type": "code",
   "execution_count": 3,
   "metadata": {},
   "outputs": [],
   "source": [
    "folder = os.listdir()"
   ]
  },
  {
   "cell_type": "code",
   "execution_count": 147,
   "metadata": {},
   "outputs": [],
   "source": [
    "file = []\n",
    "for f in folder:\n",
    "    if \".csv\" in f:\n",
    "        data = pd.read_csv(\"./\" + f, encoding=\"cp949\", skiprows=15)\n",
    "        file.append(data[list(data.columns[:11])])\n",
    "\n",
    "gajwa = pd.concat(file)\n",
    "gajwa = gajwa.dropna(axis=0)"
   ]
  },
  {
   "cell_type": "code",
   "execution_count": 149,
   "metadata": {},
   "outputs": [
    {
     "data": {
      "text/html": [
       "<div>\n",
       "<style scoped>\n",
       "    .dataframe tbody tr th:only-of-type {\n",
       "        vertical-align: middle;\n",
       "    }\n",
       "\n",
       "    .dataframe tbody tr th {\n",
       "        vertical-align: top;\n",
       "    }\n",
       "\n",
       "    .dataframe thead th {\n",
       "        text-align: right;\n",
       "    }\n",
       "</style>\n",
       "<table border=\"1\" class=\"dataframe\">\n",
       "  <thead>\n",
       "    <tr style=\"text-align: right;\">\n",
       "      <th></th>\n",
       "      <th>시군구</th>\n",
       "      <th>번지</th>\n",
       "      <th>도로조건</th>\n",
       "      <th>계약면적(㎡)</th>\n",
       "      <th>전월세구분</th>\n",
       "      <th>계약년월</th>\n",
       "      <th>계약일</th>\n",
       "      <th>보증금(만원)</th>\n",
       "      <th>월세(만원)</th>\n",
       "      <th>건축년도</th>\n",
       "      <th>도로명</th>\n",
       "    </tr>\n",
       "  </thead>\n",
       "  <tbody>\n",
       "    <tr>\n",
       "      <th>1</th>\n",
       "      <td>경상남도 진주시 가좌동</td>\n",
       "      <td>1***</td>\n",
       "      <td>12m미만</td>\n",
       "      <td>15.0</td>\n",
       "      <td>월세</td>\n",
       "      <td>202107</td>\n",
       "      <td>4</td>\n",
       "      <td>150</td>\n",
       "      <td>30</td>\n",
       "      <td>2016.0</td>\n",
       "      <td>가좌길48번길</td>\n",
       "    </tr>\n",
       "    <tr>\n",
       "      <th>2</th>\n",
       "      <td>경상남도 진주시 가좌동</td>\n",
       "      <td>1***</td>\n",
       "      <td>8m미만</td>\n",
       "      <td>15.0</td>\n",
       "      <td>월세</td>\n",
       "      <td>202108</td>\n",
       "      <td>11</td>\n",
       "      <td>200</td>\n",
       "      <td>32</td>\n",
       "      <td>2015.0</td>\n",
       "      <td>가좌길60번길</td>\n",
       "    </tr>\n",
       "    <tr>\n",
       "      <th>4</th>\n",
       "      <td>경상남도 진주시 가좌동</td>\n",
       "      <td>5**</td>\n",
       "      <td>25m미만</td>\n",
       "      <td>15.0</td>\n",
       "      <td>월세</td>\n",
       "      <td>202102</td>\n",
       "      <td>20</td>\n",
       "      <td>300</td>\n",
       "      <td>36</td>\n",
       "      <td>2019.0</td>\n",
       "      <td>가좌길</td>\n",
       "    </tr>\n",
       "    <tr>\n",
       "      <th>5</th>\n",
       "      <td>경상남도 진주시 가좌동</td>\n",
       "      <td>5**</td>\n",
       "      <td>25m미만</td>\n",
       "      <td>15.0</td>\n",
       "      <td>월세</td>\n",
       "      <td>202106</td>\n",
       "      <td>21</td>\n",
       "      <td>300</td>\n",
       "      <td>29</td>\n",
       "      <td>2019.0</td>\n",
       "      <td>가좌길</td>\n",
       "    </tr>\n",
       "    <tr>\n",
       "      <th>6</th>\n",
       "      <td>경상남도 진주시 가좌동</td>\n",
       "      <td>1***</td>\n",
       "      <td>8m미만</td>\n",
       "      <td>15.0</td>\n",
       "      <td>월세</td>\n",
       "      <td>202108</td>\n",
       "      <td>27</td>\n",
       "      <td>300</td>\n",
       "      <td>30</td>\n",
       "      <td>2018.0</td>\n",
       "      <td>가좌길44번길</td>\n",
       "    </tr>\n",
       "  </tbody>\n",
       "</table>\n",
       "</div>"
      ],
      "text/plain": [
       "            시군구    번지   도로조건  계약면적(㎡) 전월세구분    계약년월  계약일 보증금(만원)  월세(만원)  \\\n",
       "1  경상남도 진주시 가좌동  1***  12m미만     15.0    월세  202107    4     150      30   \n",
       "2  경상남도 진주시 가좌동  1***   8m미만     15.0    월세  202108   11     200      32   \n",
       "4  경상남도 진주시 가좌동   5**  25m미만     15.0    월세  202102   20     300      36   \n",
       "5  경상남도 진주시 가좌동   5**  25m미만     15.0    월세  202106   21     300      29   \n",
       "6  경상남도 진주시 가좌동  1***   8m미만     15.0    월세  202108   27     300      30   \n",
       "\n",
       "     건축년도      도로명  \n",
       "1  2016.0  가좌길48번길  \n",
       "2  2015.0  가좌길60번길  \n",
       "4  2019.0      가좌길  \n",
       "5  2019.0      가좌길  \n",
       "6  2018.0  가좌길44번길  "
      ]
     },
     "execution_count": 149,
     "metadata": {},
     "output_type": "execute_result"
    }
   ],
   "source": [
    "gajwa.head()"
   ]
  }
 ],
 "metadata": {
  "kernelspec": {
   "display_name": "Python 3.9.13 ('py3')",
   "language": "python",
   "name": "python3"
  },
  "language_info": {
   "codemirror_mode": {
    "name": "ipython",
    "version": 3
   },
   "file_extension": ".py",
   "mimetype": "text/x-python",
   "name": "python",
   "nbconvert_exporter": "python",
   "pygments_lexer": "ipython3",
   "version": "3.9.13"
  },
  "orig_nbformat": 4,
  "vscode": {
   "interpreter": {
    "hash": "19424bb408e333eeefccbf53ade33f9eedcad6659a710ab81cbc6a4ebba241fc"
   }
  }
 },
 "nbformat": 4,
 "nbformat_minor": 2
}
